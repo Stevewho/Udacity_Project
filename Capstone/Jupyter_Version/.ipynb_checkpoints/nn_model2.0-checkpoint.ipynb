{
 "cells": [
  {
   "cell_type": "code",
   "execution_count": 2,
   "metadata": {},
   "outputs": [],
   "source": [
    "import numpy as np\n",
    "import pandas as pd\n",
    "from helper import Gini, features_type\n",
    "from scipy import sparse\n",
    "from sklearn.preprocessing import StandardScaler\n",
    "from sklearn.preprocessing import LabelEncoder\n",
    "from sklearn.preprocessing import OneHotEncoder\n",
    "\n",
    "#for NN model\n",
    "from keras.layers.advanced_activations import PReLU\n",
    "from keras.layers import *\n",
    "from keras.layers.normalization import BatchNormalization\n",
    "from keras.models import Model\n",
    "from time import time\n",
    "import datetime\n",
    "from sklearn.model_selection import StratifiedKFold"
   ]
  },
  {
   "cell_type": "markdown",
   "metadata": {},
   "source": [
    "# 1. Load Data #\n",
    "\n",
    "- Create train, test dataset\n",
    "- Create train target label\n",
    "- Create feature tags:miss\n"
   ]
  },
  {
   "cell_type": "code",
   "execution_count": 5,
   "metadata": {},
   "outputs": [],
   "source": [
    "cv_only = True\n",
    "save_cv = True\n",
    "\n",
    "#validation fold\n",
    "NFOLDS = 5\n",
    "kfold = StratifiedKFold(n_splits=NFOLDS, shuffle=True, random_state=218)\n",
    "\n",
    "\n",
    "#read data\n",
    "train = pd.read_csv(\"../input/train.csv\")\n",
    "train_label = train['target']\n",
    "train_id = train['id']\n",
    "del train['target'], train['id']\n",
    "\n",
    "test = pd.read_csv(\"../input/test.csv\")\n",
    "test_id = test['id']\n",
    "del test['id']\n",
    "\n",
    "#find missing value by each row and recode to column 'missing'\n",
    "train['missing'] = (train==-1).sum(axis=1).astype(float)\n",
    "test['missing'] = (test==-1).sum(axis=1).astype(float)\n",
    "\n",
    "# extract feature with cat, bin, num, inter\n",
    "interval_fea, ordinal_fea, binary_fea, nominal_fea = features_type(train)"
   ]
  },
  {
   "cell_type": "markdown",
   "metadata": {},
   "source": [
    "# 2. Feature Engineering #"
   ]
  },
  {
   "cell_type": "markdown",
   "metadata": {},
   "source": [
    "## 2.1 Feature importance"
   ]
  },
  {
   "cell_type": "code",
   "execution_count": 6,
   "metadata": {},
   "outputs": [
    {
     "data": {
      "text/plain": [
       "XGBClassifier(base_score=0.5, booster='gbtree', colsample_bylevel=1,\n",
       "       colsample_bytree=1, gamma=0, learning_rate=0.1, max_delta_step=0,\n",
       "       max_depth=3, min_child_weight=1, missing=None, n_estimators=100,\n",
       "       n_jobs=1, nthread=None, objective='binary:logistic', random_state=0,\n",
       "       reg_alpha=0, reg_lambda=1, scale_pos_weight=1, seed=None,\n",
       "       silent=True, subsample=1)"
      ]
     },
     "execution_count": 6,
     "metadata": {},
     "output_type": "execute_result"
    }
   ],
   "source": [
    "from numpy import loadtxt\n",
    "from xgboost import XGBClassifier, plot_importance\n",
    "from matplotlib import pyplot\n",
    "FImodel = XGBClassifier()\n",
    "FImodel.fit(train, train_label)"
   ]
  },
  {
   "cell_type": "code",
   "execution_count": 7,
   "metadata": {
    "scrolled": false
   },
   "outputs": [
    {
     "data": {
      "image/png": "[encoded data removed]",
      "text/plain": [
       "<Figure size 432x288 with 1 Axes>"
      ]
     },
     "metadata": {},
     "output_type": "display_data"
    },
    {
     "name": "stdout",
     "output_type": "stream",
     "text": [
      "['ps_ind_03', 0.11428571]\n",
      "['ps_car_13', 0.11285714]\n",
      "['ps_ind_05_cat', 0.10142857]\n",
      "['ps_reg_03', 0.071428575]\n",
      "['ps_ind_15', 0.062857144]\n",
      "['ps_ind_17_bin', 0.061428573]\n",
      "['ps_ind_01', 0.050000001]\n",
      "['ps_reg_01', 0.04142857]\n",
      "['ps_car_07_cat', 0.039999999]\n",
      "['ps_car_01_cat', 0.034285713]\n",
      "['ps_reg_02', 0.032857142]\n",
      "['ps_car_03_cat', 0.029999999]\n",
      "['ps_car_09_cat', 0.021428572]\n",
      "['ps_car_14', 0.02]\n",
      "['ps_car_15', 0.02]\n",
      "['ps_ind_02_cat', 0.018571429]\n",
      "['ps_ind_04_cat', 0.017142856]\n",
      "['ps_ind_09_bin', 0.014285714]\n",
      "['ps_ind_06_bin', 0.014285714]\n",
      "['ps_ind_16_bin', 0.014285714]\n",
      "['ps_car_11', 0.014285714]\n",
      "['ps_ind_07_bin', 0.012857143]\n",
      "['missing', 0.011428571]\n",
      "['ps_car_06_cat', 0.0099999998]\n",
      "['ps_car_11_cat', 0.0085714282]\n",
      "['ps_ind_08_bin', 0.0085714282]\n",
      "['ps_car_04_cat', 0.0071428572]\n",
      "['ps_car_12', 0.0042857141]\n",
      "['ps_ind_12_bin', 0.0042857141]\n",
      "['ps_calc_05', 0.0042857141]\n",
      "['ps_calc_01', 0.0028571428]\n",
      "['ps_calc_15_bin', 0.0028571428]\n",
      "['ps_calc_10', 0.0028571428]\n",
      "['ps_calc_03', 0.0028571428]\n",
      "['ps_calc_11', 0.0014285714]\n",
      "['ps_calc_04', 0.0014285714]\n",
      "['ps_car_10_cat', 0.0014285714]\n",
      "['ps_calc_08', 0.0014285714]\n",
      "['ps_calc_09', 0.0014285714]\n",
      "['ps_calc_02', 0.0014285714]\n",
      "['ps_car_05_cat', 0.0014285714]\n",
      "['ps_calc_14', 0.0]\n",
      "['ps_calc_18_bin', 0.0]\n",
      "['ps_calc_16_bin', 0.0]\n",
      "['ps_calc_17_bin', 0.0]\n",
      "['ps_ind_10_bin', 0.0]\n",
      "['ps_calc_19_bin', 0.0]\n",
      "['ps_calc_13', 0.0]\n",
      "['ps_ind_18_bin', 0.0]\n",
      "['ps_ind_11_bin', 0.0]\n",
      "['ps_ind_13_bin', 0.0]\n",
      "['ps_ind_14', 0.0]\n",
      "['ps_calc_12', 0.0]\n",
      "['ps_calc_07', 0.0]\n",
      "['ps_calc_06', 0.0]\n",
      "['ps_car_02_cat', 0.0]\n",
      "['ps_calc_20_bin', 0.0]\n",
      "['ps_car_08_cat', 0.0]\n"
     ]
    }
   ],
   "source": [
    "from xgboost import plot_importance\n",
    "plot_importance(FImodel, max_num_features = 15)\n",
    "pyplot.show()\n",
    "\n",
    "sorted_idx = np.argsort(FImodel.feature_importances_)[::-1]\n",
    "for index in sorted_idx:\n",
    "    print([train.columns[index], FImodel.feature_importances_[index]])\n",
    "\n",
    "#extract first 15 most importacne features\n",
    "impo_fea=train.columns[sorted_idx[:15]]"
   ]
  },
  {
   "cell_type": "markdown",
   "metadata": {},
   "source": [
    "## 2.1 Nominal Data Encoding ##"
   ]
  },
  {
   "cell_type": "code",
   "execution_count": 8,
   "metadata": {},
   "outputs": [],
   "source": [
    "# Nomianl  feature with one hot encoding\n",
    "for c in nominal_fea:\n",
    "    le = LabelEncoder()\n",
    "    x = le.fit_transform(pd.concat([train[nominal_fea], test[nominal_fea]])[c])\n",
    "    train[c] = le.transform(train[c])\n",
    "    test[c] = le.transform(test[c])\n",
    "    \n",
    "enc = OneHotEncoder()\n",
    "enc.fit(pd.concat([train[nominal_fea], test[nominal_fea]]))\n",
    "train_nominal = enc.transform(train[nominal_fea])\n",
    "test_nominal = enc.transform(test[nominal_fea])"
   ]
  },
  {
   "cell_type": "markdown",
   "metadata": {},
   "source": [
    "## 2.2 Ordinal, binary, interval data ##"
   ]
  },
  {
   "cell_type": "code",
   "execution_count": 100,
   "metadata": {},
   "outputs": [],
   "source": [
    "train_ordinal = train[ordinal_fea]\n",
    "test_ordinal = test[ordinal_fea]\n",
    "train_bin = train[binary_fea]\n",
    "test_bin =test[binary_fea]\n",
    "train_intv= train[interval_fea]\n",
    "test_intv=test[interval_fea]\n",
    "train_miss = train['missing'].values.reshape(-1,1)\n",
    "test_miss=test['missing'].values.reshape(-1,1)"
   ]
  },
  {
   "cell_type": "markdown",
   "metadata": {},
   "source": [
    "## 2.3 target_encoding ##\n"
   ]
  },
  {
   "cell_type": "code",
   "execution_count": 10,
   "metadata": {},
   "outputs": [],
   "source": [
    "def add_noise(series, noise_level):\n",
    "    return series * (1 + noise_level * np.random.randn(len(series)))\n",
    "\n",
    "def target_encode(trn_series=None,\n",
    "                  tst_series=None,\n",
    "                  target=None,\n",
    "                  min_samples_leaf=1,\n",
    "                  smoothing=1,\n",
    "                  noise_level=0):\n",
    "    \"\"\"\n",
    "    Smoothing is computed like in the following paper by Daniele Micci-Barreca\n",
    "    https://kaggle2.blob.core.windows.net/forum-message-attachments/225952/7441/high%20cardinality%20categoricals.pdf\n",
    "    trn_series : training categorical feature as a pd.Series\n",
    "    tst_series : test categorical feature as a pd.Series\n",
    "    target : target data as a pd.Series\n",
    "    min_samples_leaf (int) : minimum samples to take category average into account\n",
    "    smoothing (int) : smoothing effect to balance categorical average vs prior\n",
    "    \"\"\"\n",
    "    assert len(trn_series) == len(target)\n",
    "    assert trn_series.name == tst_series.name\n",
    "    temp = pd.concat([trn_series, target], axis=1)\n",
    "    # Compute target mean\n",
    "    averages = temp.groupby(by=trn_series.name)[target.name].agg([\"mean\", \"count\"])\n",
    "    # Compute smoothing\n",
    "    smoothing = 1 / (1 + np.exp(-(averages[\"count\"] - min_samples_leaf) / smoothing))\n",
    "    # Apply average function to all target data\n",
    "    prior = target.mean()\n",
    "    # The bigger the count the less full_avg is taken into account\n",
    "    averages[target.name] = prior * (1 - smoothing) + averages[\"mean\"] * smoothing\n",
    "    averages.drop([\"mean\", \"count\"], axis=1, inplace=True)\n",
    "    # Apply averages to trn and tst series\n",
    "    ft_trn_series = pd.merge(\n",
    "        trn_series.to_frame(trn_series.name),\n",
    "        averages.reset_index().rename(columns={'index': target.name, target.name: 'average'}),\n",
    "        on=trn_series.name,\n",
    "        how='left')['average'].rename(trn_series.name + '_mean').fillna(prior)\n",
    "    # pd.merge does not keep the index so restore it\n",
    "    ft_trn_series.index = trn_series.index\n",
    "    ft_tst_series = pd.merge(\n",
    "        tst_series.to_frame(tst_series.name),\n",
    "        averages.reset_index().rename(columns={'index': target.name, target.name: 'average'}),\n",
    "        on=tst_series.name,\n",
    "        how='left')['average'].rename(trn_series.name + '_mean').fillna(prior)\n",
    "    # pd.merge does not keep the index so restore it\n",
    "    ft_tst_series.index = tst_series.index\n",
    "    return add_noise(ft_trn_series, noise_level), add_noise(ft_tst_series, noise_level)"
   ]
  },
  {
   "cell_type": "code",
   "execution_count": 11,
   "metadata": {},
   "outputs": [],
   "source": [
    "target_encoding_columns = list(interval_fea) + list(nominal_fea)\n",
    "for f in target_encoding_columns:\n",
    "    train[f + \"_tef\"], test[f + \"_tef\"] = target_encode(trn_series=train[f],\n",
    "                                         tst_series=test[f],\n",
    "                                         target=train_label,\n",
    "                                         min_samples_leaf=200,\n",
    "                                         smoothing=10,\n",
    "                                         noise_level=0)\n",
    "train_tef = train[[x for x in train.columns if 'tef' in x]]\n",
    "test_tef = test[[x for x in train.columns if 'tef' in x]]"
   ]
  },
  {
   "cell_type": "markdown",
   "metadata": {},
   "source": [
    "## 2.4 Combine all feature together, and get ready for training ##"
   ]
  },
  {
   "cell_type": "code",
   "execution_count": 101,
   "metadata": {},
   "outputs": [],
   "source": [
    "'''\n",
    "Building a training and testing list\n",
    "'''\n",
    "train_list = [train_nominal, train_ordinal, train_bin, train_intv, train_miss, train_tef] \n",
    "test_list = [test_nominal , test_ordinal, test_bin, test_intv, test_miss, test_tef]"
   ]
  },
  {
   "cell_type": "code",
   "execution_count": 99,
   "metadata": {
    "scrolled": true
   },
   "outputs": [
    {
     "name": "stdout",
     "output_type": "stream",
     "text": [
      "(595212, 1) (595212, 16)\n"
     ]
    }
   ],
   "source": [
    "print(train.missing.values.reshape(-1,1).shape, train_ordinal.shape)"
   ]
  },
  {
   "cell_type": "code",
   "execution_count": 102,
   "metadata": {
    "scrolled": true
   },
   "outputs": [],
   "source": [
    "'''\n",
    "stack with sparse matrix and convert to array\n",
    "'''\n",
    "X = sparse.hstack(train_list).tocsr().toarray()\n",
    "tem_test = sparse.hstack(test_list).tocsr().toarray()\n"
   ]
  },
  {
   "cell_type": "code",
   "execution_count": 103,
   "metadata": {},
   "outputs": [],
   "source": [
    "X_test=[]\n",
    "train_impo= train[impo_fea]\n",
    "test_impo= test[impo_fea]\n",
    "for i in range(train_impo.shape[1]):\n",
    "    X_test.append(test_impo.values[:,i].reshape(-1,1))\n",
    "X_test.append(tem_test)"
   ]
  },
  {
   "cell_type": "markdown",
   "metadata": {},
   "source": [
    "# 3. Training NN Model with Keras # "
   ]
  },
  {
   "cell_type": "markdown",
   "metadata": {},
   "source": [
    "## 3.1 Build the model ##"
   ]
  },
  {
   "cell_type": "code",
   "execution_count": 107,
   "metadata": {},
   "outputs": [],
   "source": [
    "def nn_model():\n",
    "    inputs = []\n",
    "    layers = []\n",
    "    for _ in impo_fea:\n",
    "        input_impo = Input(shape=(1, ), dtype='float32')\n",
    "        net_impo = Dense(64, kernel_initializer='he_normal')(input_impo)\n",
    "        net_impo = PReLU()(net_impo)\n",
    "        net_impo = BatchNormalization()(net_impo)\n",
    "        net_impo = Dropout(0.25)(net_impo)\n",
    "        inputs.append(input_impo)\n",
    "        layers.append(net_impo)\n",
    "\n",
    "    input_num = Input(shape=(X.shape[1],), dtype='float32')\n",
    "    layers.append(input_num)\n",
    "    inputs.append(input_num)\n",
    "\n",
    "    flatten = Concatenate(axis=-1)(layers)\n",
    "\n",
    "    fc1 = Dense(512, kernel_initializer='he_normal')(flatten)\n",
    "    fc1 = PReLU()(fc1)\n",
    "    fc1 = BatchNormalization()(fc1)\n",
    "    fc1 = Dropout(0.5)(fc1)\n",
    "    fc1 = Dense(64, kernel_initializer='he_normal')(fc1)\n",
    "    fc1 = PReLU()(fc1)\n",
    "    fc1 = BatchNormalization()(fc1)\n",
    "    fc1 = Dropout(0.25)(fc1)\n",
    "\n",
    "    outputs = Dense(1, kernel_initializer='he_normal', activation='sigmoid')(fc1)\n",
    "    model = Model(inputs = inputs, outputs = outputs)\n",
    "    model.compile(loss='binary_crossentropy', optimizer='adam')\n",
    "    return (model)"
   ]
  },
  {
   "cell_type": "markdown",
   "metadata": {},
   "source": [
    "## 3.2 Start to Train ##"
   ]
  },
  {
   "cell_type": "code",
   "execution_count": 106,
   "metadata": {},
   "outputs": [
    {
     "name": "stdout",
     "output_type": "stream",
     "text": [
      "Train on 476169 samples, validate on 119043 samples\n",
      "Epoch 1/15\n",
      " - 79s - loss: 0.2331 - val_loss: 0.1554\n",
      "Epoch 2/15\n",
      " - 64s - loss: 0.1606 - val_loss: 0.1535\n",
      "Epoch 3/15\n",
      " - 66s - loss: 0.1571 - val_loss: 0.1528\n",
      "Epoch 4/15\n",
      " - 66s - loss: 0.1559 - val_loss: 0.1530\n",
      "Epoch 5/15\n",
      " - 66s - loss: 0.1551 - val_loss: 0.1530\n",
      "Epoch 6/15\n",
      " - 67s - loss: 0.1547 - val_loss: 0.1527\n",
      "Epoch 7/15\n",
      " - 65s - loss: 0.1543 - val_loss: 0.1526\n",
      "Epoch 8/15\n",
      " - 64s - loss: 0.1540 - val_loss: 0.1523\n",
      "Epoch 9/15\n",
      " - 65s - loss: 0.1538 - val_loss: 0.1531\n",
      "Epoch 10/15\n",
      " - 64s - loss: 0.1536 - val_loss: 0.1522\n",
      "Epoch 11/15\n",
      " - 64s - loss: 0.1536 - val_loss: 0.1525\n",
      "Epoch 12/15\n",
      " - 66s - loss: 0.1535 - val_loss: 0.1522\n",
      "Epoch 13/15\n",
      " - 69s - loss: 0.1533 - val_loss: 0.1522\n",
      "Epoch 14/15\n",
      " - 67s - loss: 0.1532 - val_loss: 0.1521\n",
      "Epoch 15/15\n",
      " - 68s - loss: 0.1531 - val_loss: 0.1520\n",
      "0.278205070318\n",
      "Train on 476169 samples, validate on 119043 samples\n",
      "Epoch 1/15\n",
      " - 78s - loss: 0.2333 - val_loss: 0.1553\n",
      "Epoch 2/15\n",
      " - 63s - loss: 0.1607 - val_loss: 0.1540\n",
      "Epoch 3/15\n",
      " - 60s - loss: 0.1568 - val_loss: 0.1533\n",
      "Epoch 4/15\n",
      " - 61s - loss: 0.1556 - val_loss: 0.1537\n",
      "Epoch 5/15\n",
      " - 64s - loss: 0.1548 - val_loss: 0.1532\n",
      "Epoch 6/15\n",
      " - 60s - loss: 0.1544 - val_loss: 0.1535\n",
      "Epoch 7/15\n",
      " - 60s - loss: 0.1542 - val_loss: 0.1530\n",
      "Epoch 8/15\n",
      " - 60s - loss: 0.1539 - val_loss: 0.1532\n",
      "Epoch 9/15\n",
      " - 59s - loss: 0.1538 - val_loss: 0.1528\n",
      "Epoch 10/15\n",
      " - 64s - loss: 0.1535 - val_loss: 0.1530\n",
      "Epoch 11/15\n",
      " - 62s - loss: 0.1534 - val_loss: 0.1533\n",
      "Epoch 12/15\n",
      " - 64s - loss: 0.1533 - val_loss: 0.1530\n",
      "Epoch 13/15\n",
      " - 60s - loss: 0.1532 - val_loss: 0.1526\n",
      "Epoch 14/15\n",
      " - 58s - loss: 0.1532 - val_loss: 0.1527\n",
      "Epoch 15/15\n",
      " - 59s - loss: 0.1529 - val_loss: 0.1527\n",
      "0.256906677656\n",
      "Train on 476169 samples, validate on 119043 samples\n",
      "Epoch 1/15\n",
      " - 72s - loss: 0.2335 - val_loss: 0.1558\n",
      "Epoch 2/15\n",
      " - 59s - loss: 0.1603 - val_loss: 0.1539\n",
      "Epoch 3/15\n",
      " - 59s - loss: 0.1569 - val_loss: 0.1537\n",
      "Epoch 4/15\n",
      " - 59s - loss: 0.1558 - val_loss: 0.1532\n",
      "Epoch 5/15\n",
      " - 59s - loss: 0.1550 - val_loss: 0.1530\n",
      "Epoch 6/15\n",
      " - 59s - loss: 0.1546 - val_loss: 0.1531\n",
      "Epoch 7/15\n",
      " - 61s - loss: 0.1541 - val_loss: 0.1532\n",
      "Epoch 8/15\n",
      " - 2403s - loss: 0.1539 - val_loss: 0.1529\n",
      "Epoch 9/15\n",
      " - 60s - loss: 0.1537 - val_loss: 0.1530\n",
      "Epoch 10/15\n",
      " - 60s - loss: 0.1535 - val_loss: 0.1527\n",
      "Epoch 11/15\n",
      " - 60s - loss: 0.1536 - val_loss: 0.1529\n",
      "Epoch 12/15\n",
      " - 61s - loss: 0.1533 - val_loss: 0.1528\n",
      "Epoch 13/15\n",
      " - 61s - loss: 0.1533 - val_loss: 0.1528\n",
      "Epoch 14/15\n",
      " - 61s - loss: 0.1532 - val_loss: 0.1525\n",
      "Epoch 15/15\n",
      " - 62s - loss: 0.1531 - val_loss: 0.1524\n",
      "0.270311337504\n",
      "Train on 476170 samples, validate on 119042 samples\n",
      "Epoch 1/15\n",
      " - 76s - loss: 0.2332 - val_loss: 0.1552\n",
      "Epoch 2/15\n",
      " - 62s - loss: 0.1602 - val_loss: 0.1538\n",
      "Epoch 3/15\n",
      " - 63s - loss: 0.1570 - val_loss: 0.1533\n",
      "Epoch 4/15\n",
      " - 2210s - loss: 0.1556 - val_loss: 0.1529\n",
      "Epoch 5/15\n",
      " - 113s - loss: 0.1549 - val_loss: 0.1528\n",
      "Epoch 6/15\n",
      " - 114s - loss: 0.1544 - val_loss: 0.1532\n",
      "Epoch 7/15\n",
      " - 3667s - loss: 0.1542 - val_loss: 0.1533\n",
      "Epoch 8/15\n",
      " - 67s - loss: 0.1539 - val_loss: 0.1525\n",
      "Epoch 9/15\n",
      " - 65s - loss: 0.1538 - val_loss: 0.1525\n",
      "Epoch 10/15\n",
      " - 64s - loss: 0.1536 - val_loss: 0.1524\n",
      "Epoch 11/15\n",
      " - 66s - loss: 0.1535 - val_loss: 0.1525\n",
      "Epoch 12/15\n",
      " - 68s - loss: 0.1532 - val_loss: 0.1525\n",
      "Epoch 13/15\n",
      " - 69s - loss: 0.1533 - val_loss: 0.1527\n",
      "Epoch 14/15\n",
      " - 65s - loss: 0.1532 - val_loss: 0.1525\n",
      "Epoch 15/15\n",
      " - 65s - loss: 0.1530 - val_loss: 0.1529\n",
      "0.266801124429\n",
      "Train on 476171 samples, validate on 119041 samples\n",
      "Epoch 1/15\n",
      " - 81s - loss: 0.2332 - val_loss: 0.1549\n",
      "Epoch 2/15\n",
      " - 65s - loss: 0.1602 - val_loss: 0.1532\n",
      "Epoch 3/15\n",
      " - 67s - loss: 0.1572 - val_loss: 0.1534\n",
      "Epoch 4/15\n",
      " - 71s - loss: 0.1559 - val_loss: 0.1529\n",
      "Epoch 5/15\n",
      " - 68s - loss: 0.1550 - val_loss: 0.1530\n",
      "Epoch 6/15\n",
      " - 66s - loss: 0.1546 - val_loss: 0.1525\n",
      "Epoch 7/15\n",
      " - 66s - loss: 0.1543 - val_loss: 0.1524\n",
      "Epoch 8/15\n",
      " - 72s - loss: 0.1541 - val_loss: 0.1523\n",
      "Epoch 9/15\n",
      " - 68s - loss: 0.1538 - val_loss: 0.1524\n",
      "Epoch 10/15\n",
      " - 69s - loss: 0.1536 - val_loss: 0.1523\n",
      "Epoch 11/15\n",
      " - 70s - loss: 0.1536 - val_loss: 0.1526\n",
      "Epoch 12/15\n",
      " - 72s - loss: 0.1534 - val_loss: 0.1525\n",
      "Epoch 13/15\n",
      " - 68s - loss: 0.1533 - val_loss: 0.1524\n",
      "Epoch 14/15\n",
      " - 71s - loss: 0.1532 - val_loss: 0.1521\n",
      "Epoch 15/15\n",
      " - 69s - loss: 0.1532 - val_loss: 0.1522\n",
      "0.274252862567\n",
      "0.265986081798\n",
      "Total training time:  3:43:12.378823\n"
     ]
    }
   ],
   "source": [
    "\"\"\"\n",
    "\n",
    "NFOLDS = 5\n",
    "\n",
    "\"\"\"\n",
    "cv_train = np.zeros(len(train_label))\n",
    "cv_pred = np.zeros(len(test_id))\n",
    "\n",
    "\n",
    "begintime = time()\n",
    "\n",
    "for (train_index, valid_index) in kfold.split(X, train_label):\n",
    "    x_train = X[train_index]\n",
    "    y_train = train_label[train_index]\n",
    "    x_valid = X[valid_index]\n",
    "    y_valid = train_label[valid_index]\n",
    "\n",
    "    x_train_impo = train_impo.values[train_index]\n",
    "    x_valid_impo = train_impo.values[valid_index]\n",
    "\n",
    "\n",
    "   # get x_train x_test cat\n",
    "    train_list, valid_list = [], []\n",
    "    for i in range(x_train_impo.shape[1]):\n",
    "        train_list.append(x_train_impo[:, i].reshape(-1, 1))\n",
    "        valid_list.append(x_valid_impo[:, i].reshape(-1, 1))\n",
    "\n",
    "    train_list.append(x_train)\n",
    "    valid_list.append(x_valid)\n",
    "    model = nn_model()\n",
    "\n",
    "    model.fit(train_list, y_train, epochs=15, batch_size=512, verbose=2, validation_data=[valid_list, y_valid])\n",
    "    cv_train[valid_index] += model.predict(x=valid_list, batch_size=512, verbose=0)[:,0]\n",
    "    print('Current Folder Scores: ',Gini(train_label[valid_index], cv_train[valid_index]))\n",
    "    cv_pred += model.predict(x=X_test, batch_size=512, verbose=0)[:,0]\n",
    "\n",
    "print(Gini(train_label, cv_train ))\n",
    "print(\"Total training time: \",str(datetime.timedelta(seconds=time() - begintime)))\n",
    "\n",
    "pd.DataFrame({'id': test_id, 'target': cv_pred * 1./ (NFOLDS)}).to_csv('../model/nnModelpred.csv', index=False)\n",
    "\n",
    "\n",
    "\n",
    "\n"
   ]
  },
  {
   "cell_type": "code",
   "execution_count": 54,
   "metadata": {},
   "outputs": [],
   "source": [
    "prediction= model.predict(x=X_test, batch_size=512, verbose=0)"
   ]
  },
  {
   "cell_type": "code",
   "execution_count": 55,
   "metadata": {},
   "outputs": [
    {
     "name": "stdout",
     "output_type": "stream",
     "text": [
      "(892816, 1)\n"
     ]
    }
   ],
   "source": [
    "print(prediction.shape)"
   ]
  },
  {
   "cell_type": "code",
   "execution_count": 71,
   "metadata": {},
   "outputs": [
    {
     "ename": "AttributeError",
     "evalue": "'function' object has no attribute 'layers'",
     "output_type": "error",
     "traceback": [
      "\u001b[0;31m---------------------------------------------------------------------------\u001b[0m",
      "\u001b[0;31mAttributeError\u001b[0m                            Traceback (most recent call last)",
      "\u001b[0;32m<ipython-input-71-89c1f56fdb51>\u001b[0m in \u001b[0;36m<module>\u001b[0;34m()\u001b[0m\n\u001b[0;32m----> 1\u001b[0;31m \u001b[0;32mfor\u001b[0m \u001b[0mlayer\u001b[0m \u001b[0;32min\u001b[0m \u001b[0mnn_model\u001b[0m\u001b[0;34m.\u001b[0m\u001b[0mlayers\u001b[0m\u001b[0;34m:\u001b[0m\u001b[0;34m\u001b[0m\u001b[0m\n\u001b[0m\u001b[1;32m      2\u001b[0m     \u001b[0mprint\u001b[0m\u001b[0;34m(\u001b[0m\u001b[0mlayer\u001b[0m\u001b[0;34m.\u001b[0m\u001b[0mget_output_at\u001b[0m\u001b[0;34m(\u001b[0m\u001b[0;36m0\u001b[0m\u001b[0;34m)\u001b[0m\u001b[0;34m.\u001b[0m\u001b[0mget_shape\u001b[0m\u001b[0;34m(\u001b[0m\u001b[0;34m)\u001b[0m\u001b[0;34m.\u001b[0m\u001b[0mas_list\u001b[0m\u001b[0;34m(\u001b[0m\u001b[0;34m)\u001b[0m\u001b[0;34m)\u001b[0m\u001b[0;34m\u001b[0m\u001b[0m\n",
      "\u001b[0;31mAttributeError\u001b[0m: 'function' object has no attribute 'layers'"
     ]
    }
   ],
   "source": [
    "for layer in nn_model.layers:\n",
    "    print(layer.get_output_at(0).get_shape().as_list())"
   ]
  },
  {
   "cell_type": "code",
   "execution_count": null,
   "metadata": {},
   "outputs": [],
   "source": []
  }
 ],
 "metadata": {
  "kernelspec": {
   "display_name": "Python 3",
   "language": "python",
   "name": "python3"
  },
  "language_info": {
   "codemirror_mode": {
    "name": "ipython",
    "version": 3
   },
   "file_extension": ".py",
   "mimetype": "text/x-python",
   "name": "python",
   "nbconvert_exporter": "python",
   "pygments_lexer": "ipython3",
   "version": "3.6.5"
  }
 },
 "nbformat": 4,
 "nbformat_minor": 2
}
