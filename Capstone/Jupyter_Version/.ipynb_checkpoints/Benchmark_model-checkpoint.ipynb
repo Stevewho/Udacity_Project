{
 "cells": [
  {
   "cell_type": "code",
   "execution_count": 2,
   "metadata": {},
   "outputs": [],
   "source": [
    "from keras.layers import Dense, Input\n",
    "from keras.models import Model\n",
    "from keras.callbacks import History \n",
    "import numpy as np\n",
    "import pandas as pd\n",
    "from helper import Gini"
   ]
  },
  {
   "cell_type": "markdown",
   "metadata": {},
   "source": [
    "# 1. Load Data #\n",
    "\n",
    "- Create train, test dataset\n",
    "- Create train target label\n",
    "- Create feature tags: cat, num, bin, miss\n"
   ]
  },
  {
   "cell_type": "code",
   "execution_count": 5,
   "metadata": {},
   "outputs": [],
   "source": [
    "#read data\n",
    "train = pd.read_csv(\"./input/train.csv\")\n",
    "train_label = train['target']\n",
    "train_id = train['id']\n",
    "del train['target'], train['id']\n",
    "test = pd.read_csv(\"./input/test.csv\")\n",
    "test_id = test['id']\n",
    "del test['id']"
   ]
  },
  {
   "cell_type": "markdown",
   "metadata": {},
   "source": [
    "## 2 Combine all feature together, and get ready for training ##"
   ]
  },
  {
   "cell_type": "code",
   "execution_count": 6,
   "metadata": {},
   "outputs": [],
   "source": [
    "train = train.replace([np.inf, -np.inf, np.nan], 0)\n",
    "test = test.replace([np.inf, -np.inf, np.nan],0)"
   ]
  },
  {
   "cell_type": "markdown",
   "metadata": {},
   "source": [
    "# 3. Training NN Model with Keras # "
   ]
  },
  {
   "cell_type": "markdown",
   "metadata": {},
   "source": [
    "## 3.1 Build the model ##"
   ]
  },
  {
   "cell_type": "code",
   "execution_count": 16,
   "metadata": {},
   "outputs": [],
   "source": [
    "def nn_model():\n",
    "    inputs = Input(shape=(train.shape[1],), dtype='float32')\n",
    "    net = Dense(512, activation='tanh')(inputs)\n",
    "    net = Dense(64, activation='tanh')(net)\n",
    "    outputs = Dense(1, init='he_normal', activation='sigmoid')(net)\n",
    "    model = Model(inputs = inputs, outputs = outputs)\n",
    "    model.compile(loss='binary_crossentropy', optimizer='adam')\n",
    "    return (model)"
   ]
  },
  {
   "cell_type": "markdown",
   "metadata": {},
   "source": [
    "## 3.2 Start to Train ##"
   ]
  },
  {
   "cell_type": "code",
   "execution_count": 17,
   "metadata": {},
   "outputs": [
    {
     "name": "stderr",
     "output_type": "stream",
     "text": [
      "/Users/stevenhu/anaconda3/envs/run/lib/python3.6/site-packages/ipykernel_launcher.py:5: UserWarning: Update your `Dense` call to the Keras 2 API: `Dense(1, activation=\"sigmoid\", kernel_initializer=\"he_normal\")`\n",
      "  \"\"\"\n"
     ]
    },
    {
     "name": "stdout",
     "output_type": "stream",
     "text": [
      "Epoch 1/75\n",
      "595212/595212 [==============================] - 7s 12us/step - loss: 0.1566\n",
      "Epoch 2/75\n",
      "595212/595212 [==============================] - 7s 11us/step - loss: 0.1540\n",
      "Epoch 3/75\n",
      "595212/595212 [==============================] - 7s 11us/step - loss: 0.1537\n",
      "Epoch 4/75\n",
      "595212/595212 [==============================] - 7s 11us/step - loss: 0.1536\n",
      "Epoch 5/75\n",
      "595212/595212 [==============================] - 7s 11us/step - loss: 0.1535\n",
      "Epoch 6/75\n",
      "595212/595212 [==============================] - 7s 11us/step - loss: 0.1534\n",
      "Epoch 7/75\n",
      "595212/595212 [==============================] - 7s 11us/step - loss: 0.1533\n",
      "Epoch 8/75\n",
      "595212/595212 [==============================] - 7s 11us/step - loss: 0.1533\n",
      "Epoch 9/75\n",
      "595212/595212 [==============================] - 7s 11us/step - loss: 0.1533\n",
      "Epoch 10/75\n",
      "595212/595212 [==============================] - 7s 12us/step - loss: 0.1532\n",
      "Epoch 11/75\n",
      "595212/595212 [==============================] - 7s 11us/step - loss: 0.1531\n",
      "Epoch 12/75\n",
      "595212/595212 [==============================] - 7s 12us/step - loss: 0.1531\n",
      "Epoch 13/75\n",
      "595212/595212 [==============================] - 7s 12us/step - loss: 0.1531\n",
      "Epoch 14/75\n",
      "595212/595212 [==============================] - 7s 12us/step - loss: 0.1529\n",
      "Epoch 15/75\n",
      "595212/595212 [==============================] - 7s 12us/step - loss: 0.1530\n",
      "Epoch 16/75\n",
      "595212/595212 [==============================] - 7s 12us/step - loss: 0.1530\n",
      "Epoch 17/75\n",
      "595212/595212 [==============================] - 7s 11us/step - loss: 0.1529\n",
      "Epoch 18/75\n",
      "595212/595212 [==============================] - 7s 12us/step - loss: 0.1528\n",
      "Epoch 19/75\n",
      "595212/595212 [==============================] - 7s 11us/step - loss: 0.1528\n",
      "Epoch 20/75\n",
      "595212/595212 [==============================] - 7s 12us/step - loss: 0.1527\n",
      "Epoch 21/75\n",
      "595212/595212 [==============================] - 7s 12us/step - loss: 0.1528\n",
      "Epoch 22/75\n",
      "595212/595212 [==============================] - 7s 12us/step - loss: 0.1526\n",
      "Epoch 23/75\n",
      "595212/595212 [==============================] - 7s 12us/step - loss: 0.1526\n",
      "Epoch 24/75\n",
      "595212/595212 [==============================] - 7s 12us/step - loss: 0.1526\n",
      "Epoch 25/75\n",
      "595212/595212 [==============================] - 7s 12us/step - loss: 0.1525\n",
      "Epoch 26/75\n",
      "595212/595212 [==============================] - 7s 12us/step - loss: 0.1525\n",
      "Epoch 27/75\n",
      "595212/595212 [==============================] - 7s 12us/step - loss: 0.1525\n",
      "Epoch 28/75\n",
      "595212/595212 [==============================] - 7s 12us/step - loss: 0.1525\n",
      "Epoch 29/75\n",
      "595212/595212 [==============================] - 7s 12us/step - loss: 0.1524\n",
      "Epoch 30/75\n",
      "595212/595212 [==============================] - 7s 12us/step - loss: 0.1523\n",
      "Epoch 31/75\n",
      "595212/595212 [==============================] - 7s 12us/step - loss: 0.1523\n",
      "Epoch 32/75\n",
      "595212/595212 [==============================] - 7s 12us/step - loss: 0.1524\n",
      "Epoch 33/75\n",
      "595212/595212 [==============================] - 7s 12us/step - loss: 0.1523\n",
      "Epoch 34/75\n",
      "595212/595212 [==============================] - 7s 12us/step - loss: 0.1522\n",
      "Epoch 35/75\n",
      "595212/595212 [==============================] - 7s 12us/step - loss: 0.1522\n",
      "Epoch 36/75\n",
      "595212/595212 [==============================] - 7s 12us/step - loss: 0.1523\n",
      "Epoch 37/75\n",
      "595212/595212 [==============================] - 7s 12us/step - loss: 0.1522\n",
      "Epoch 38/75\n",
      "595212/595212 [==============================] - 7s 12us/step - loss: 0.1523\n",
      "Epoch 39/75\n",
      "595212/595212 [==============================] - 7s 12us/step - loss: 0.1522\n",
      "Epoch 40/75\n",
      "595212/595212 [==============================] - 7s 12us/step - loss: 0.1521\n",
      "Epoch 41/75\n",
      "595212/595212 [==============================] - 7s 12us/step - loss: 0.1523\n",
      "Epoch 42/75\n",
      "595212/595212 [==============================] - 7s 12us/step - loss: 0.1522\n",
      "Epoch 43/75\n",
      "595212/595212 [==============================] - 7s 12us/step - loss: 0.1522\n",
      "Epoch 44/75\n",
      "595212/595212 [==============================] - 7s 12us/step - loss: 0.1521\n",
      "Epoch 45/75\n",
      "595212/595212 [==============================] - 7s 12us/step - loss: 0.1520\n",
      "Epoch 46/75\n",
      "595212/595212 [==============================] - 7s 12us/step - loss: 0.1521\n",
      "Epoch 47/75\n",
      "595212/595212 [==============================] - 7s 12us/step - loss: 0.1520\n",
      "Epoch 48/75\n",
      "595212/595212 [==============================] - 7s 12us/step - loss: 0.1520\n",
      "Epoch 49/75\n",
      "595212/595212 [==============================] - 7s 12us/step - loss: 0.1519\n",
      "Epoch 50/75\n",
      "595212/595212 [==============================] - 7s 12us/step - loss: 0.1519\n",
      "Epoch 51/75\n",
      "595212/595212 [==============================] - 7s 12us/step - loss: 0.1519\n",
      "Epoch 52/75\n",
      "595212/595212 [==============================] - 7s 12us/step - loss: 0.1519\n",
      "Epoch 53/75\n",
      "595212/595212 [==============================] - 7s 12us/step - loss: 0.1519\n",
      "Epoch 54/75\n",
      "595212/595212 [==============================] - 7s 12us/step - loss: 0.1518\n",
      "Epoch 55/75\n",
      "595212/595212 [==============================] - 7s 12us/step - loss: 0.1517\n",
      "Epoch 56/75\n",
      "595212/595212 [==============================] - 7s 12us/step - loss: 0.1518\n",
      "Epoch 57/75\n",
      "595212/595212 [==============================] - 7s 12us/step - loss: 0.1518\n",
      "Epoch 58/75\n",
      "595212/595212 [==============================] - 7s 12us/step - loss: 0.1518\n",
      "Epoch 59/75\n",
      "595212/595212 [==============================] - 7s 12us/step - loss: 0.1516\n",
      "Epoch 60/75\n",
      "595212/595212 [==============================] - 7s 12us/step - loss: 0.1517\n",
      "Epoch 61/75\n",
      "595212/595212 [==============================] - 7s 12us/step - loss: 0.1517\n",
      "Epoch 62/75\n",
      "595212/595212 [==============================] - 7s 12us/step - loss: 0.1517\n",
      "Epoch 63/75\n",
      "595212/595212 [==============================] - 7s 12us/step - loss: 0.1516\n",
      "Epoch 64/75\n",
      "595212/595212 [==============================] - 7s 12us/step - loss: 0.1515\n",
      "Epoch 65/75\n",
      "595212/595212 [==============================] - 7s 12us/step - loss: 0.1515\n",
      "Epoch 66/75\n",
      "595212/595212 [==============================] - 7s 12us/step - loss: 0.1515\n",
      "Epoch 67/75\n",
      "595212/595212 [==============================] - 7s 12us/step - loss: 0.1515\n",
      "Epoch 68/75\n",
      "595212/595212 [==============================] - 7s 12us/step - loss: 0.1513\n",
      "Epoch 69/75\n",
      "595212/595212 [==============================] - 7s 12us/step - loss: 0.1514\n",
      "Epoch 70/75\n",
      "595212/595212 [==============================] - 7s 12us/step - loss: 0.1514\n",
      "Epoch 71/75\n",
      "595212/595212 [==============================] - 7s 12us/step - loss: 0.1514\n",
      "Epoch 72/75\n",
      "595212/595212 [==============================] - 7s 12us/step - loss: 0.1513\n",
      "Epoch 73/75\n",
      "595212/595212 [==============================] - 7s 12us/step - loss: 0.1513\n",
      "Epoch 74/75\n",
      "595212/595212 [==============================] - 7s 12us/step - loss: 0.1513\n",
      "Epoch 75/75\n",
      "595212/595212 [==============================] - 7s 12us/step - loss: 0.1512\n"
     ]
    }
   ],
   "source": [
    "callbacks=[history]\n",
    "\n",
    "model = nn_model()\n",
    "model.fit(train,train_label, batch_size=512, epochs =75)\n",
    "pred = model.predict(train)\n",
    "benchmark_pred= model.predict(test).reshape(-1,)\n",
    "pd.DataFrame({'id': test_id, 'target': benchmark_pred}).to_csv('../model/benchmark_pred.csv', index=False)"
   ]
  },
  {
   "cell_type": "code",
   "execution_count": 18,
   "metadata": {},
   "outputs": [
    {
     "name": "stdout",
     "output_type": "stream",
     "text": [
      "0.3003026625\n"
     ]
    }
   ],
   "source": [
    "print(Gini(train_label, pred.reshape(-1,)))"
   ]
  },
  {
   "cell_type": "markdown",
   "metadata": {},
   "source": [
    "### Test data Score in Kaggle\n",
    "![alt text](Jupyter_image/benchmark_testScore.png)"
   ]
  },
  {
   "cell_type": "code",
   "execution_count": 6,
   "metadata": {},
   "outputs": [
    {
     "name": "stdout",
     "output_type": "stream",
     "text": [
      "['ps_ind_01' 'ps_ind_02_cat' 'ps_ind_03' 'ps_ind_04_cat' 'ps_ind_05_cat'\n",
      " 'ps_ind_06_bin' 'ps_ind_07_bin' 'ps_ind_08_bin' 'ps_ind_09_bin'\n",
      " 'ps_ind_10_bin' 'ps_ind_11_bin' 'ps_ind_12_bin' 'ps_ind_13_bin'\n",
      " 'ps_ind_14' 'ps_ind_15' 'ps_ind_16_bin' 'ps_ind_17_bin' 'ps_ind_18_bin'\n",
      " 'ps_reg_01' 'ps_reg_02' 'ps_reg_03' 'ps_car_01_cat' 'ps_car_02_cat'\n",
      " 'ps_car_03_cat' 'ps_car_04_cat' 'ps_car_05_cat' 'ps_car_06_cat'\n",
      " 'ps_car_07_cat' 'ps_car_08_cat' 'ps_car_09_cat' 'ps_car_10_cat'\n",
      " 'ps_car_11_cat' 'ps_car_11' 'ps_car_12' 'ps_car_13' 'ps_car_14'\n",
      " 'ps_car_15' 'ps_calc_01' 'ps_calc_02' 'ps_calc_03' 'ps_calc_04'\n",
      " 'ps_calc_05' 'ps_calc_06' 'ps_calc_07' 'ps_calc_08' 'ps_calc_09'\n",
      " 'ps_calc_10' 'ps_calc_11' 'ps_calc_12' 'ps_calc_13' 'ps_calc_14'\n",
      " 'ps_calc_15_bin' 'ps_calc_16_bin' 'ps_calc_17_bin' 'ps_calc_18_bin'\n",
      " 'ps_calc_19_bin' 'ps_calc_20_bin']\n"
     ]
    }
   ],
   "source": [
    "print(test.columns.values)"
   ]
  },
  {
   "cell_type": "code",
   "execution_count": null,
   "metadata": {},
   "outputs": [],
   "source": []
  }
 ],
 "metadata": {
  "kernelspec": {
   "display_name": "Python 3",
   "language": "python",
   "name": "python3"
  },
  "language_info": {
   "codemirror_mode": {
    "name": "ipython",
    "version": 3
   },
   "file_extension": ".py",
   "mimetype": "text/x-python",
   "name": "python",
   "nbconvert_exporter": "python",
   "pygments_lexer": "ipython3",
   "version": "3.6.5"
  }
 },
 "nbformat": 4,
 "nbformat_minor": 2
}
