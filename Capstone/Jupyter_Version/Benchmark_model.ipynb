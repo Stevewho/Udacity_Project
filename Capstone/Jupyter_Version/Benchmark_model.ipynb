{
 "cells": [
  {
   "cell_type": "code",
   "execution_count": 7,
   "metadata": {},
   "outputs": [],
   "source": [
    "from keras.layers import Dense, Input\n",
    "from keras.models import Model\n",
    "from keras.callbacks import History \n",
    "import numpy as np\n",
    "import pandas as pd\n",
    "from helper import Gini"
   ]
  },
  {
   "cell_type": "markdown",
   "metadata": {},
   "source": [
    "# 1. Load Data #\n",
    "\n",
    "- Create train, test dataset\n",
    "- Create train target label\n",
    "- Create feature tags: cat, num, bin, miss\n"
   ]
  },
  {
   "cell_type": "code",
   "execution_count": 5,
   "metadata": {},
   "outputs": [],
   "source": [
    "#read data\n",
    "train = pd.read_csv(\"./input/train.csv\")\n",
    "train_label = train['target']\n",
    "train_id = train['id']\n",
    "del train['target'], train['id']\n",
    "test = pd.read_csv(\"./input/test.csv\")\n",
    "test_id = test['id']\n",
    "del test['id']"
   ]
  },
  {
   "cell_type": "markdown",
   "metadata": {},
   "source": [
    "## 2 Combine all feature together, and get ready for training ##"
   ]
  },
  {
   "cell_type": "code",
   "execution_count": 6,
   "metadata": {},
   "outputs": [],
   "source": [
    "train = train.replace([np.inf, -np.inf, np.nan], 0)\n",
    "test = test.replace([np.inf, -np.inf, np.nan],0)"
   ]
  },
  {
   "cell_type": "markdown",
   "metadata": {},
   "source": [
    "# 3. Training NN Model with Keras # "
   ]
  },
  {
   "cell_type": "markdown",
   "metadata": {},
   "source": [
    "## 3.1 Build the model ##"
   ]
  },
  {
   "cell_type": "code",
   "execution_count": 9,
   "metadata": {},
   "outputs": [],
   "source": [
    "def nn_model():\n",
    "    inputs = Input(shape=(train.shape[1],), dtype='float32')\n",
    "    net = Dense(512, activation='tanh')(inputs)\n",
    "    net = Dense(64, activation='tanh')(net)\n",
    "    outputs = Dense(1, init='he_normal', activation='sigmoid')(net)\n",
    "    model = Model(inputs = inputs, outputs = outputs)\n",
    "    model.compile(loss='binary_crossentropy', optimizer='adam')\n",
    "    return (model)"
   ]
  },
  {
   "cell_type": "markdown",
   "metadata": {},
   "source": [
    "## 3.2 Start to Train ##"
   ]
  },
  {
   "cell_type": "code",
   "execution_count": 21,
   "metadata": {},
   "outputs": [
    {
     "name": "stderr",
     "output_type": "stream",
     "text": [
      "/Users/stevenhu/anaconda3/envs/run/lib/python3.6/site-packages/ipykernel_launcher.py:5: UserWarning: Update your `Dense` call to the Keras 2 API: `Dense(1, activation=\"sigmoid\", kernel_initializer=\"he_normal\")`\n",
      "  \"\"\"\n"
     ]
    },
    {
     "name": "stdout",
     "output_type": "stream",
     "text": [
      "Train on 398792 samples, validate on 196420 samples\n",
      "Epoch 1/3\n",
      "398792/398792 [==============================] - 5s 13us/step - loss: 0.1581 - val_loss: 0.1566\n",
      "Epoch 2/3\n",
      "398792/398792 [==============================] - 5s 12us/step - loss: 0.1540 - val_loss: 0.1546\n",
      "Epoch 3/3\n",
      "398792/398792 [==============================] - 5s 12us/step - loss: 0.1536 - val_loss: 0.1537\n"
     ]
    }
   ],
   "source": [
    "history = History()\n",
    "\n",
    "model = nn_model()\n",
    "his = model.fit(train,train_label, batch_size=512, epochs =3,callbacks=[history],validation_split=0.33)\n",
    "# pred = model.predict(train)\n",
    "# benchmark_pred= model.predict(test).reshape(-1,)\n",
    "# pd.DataFrame({'id': test_id, 'target': benchmark_pred}).to_csv('../model/benchmark_pred.csv', index=False)"
   ]
  },
  {
   "cell_type": "code",
   "execution_count": 32,
   "metadata": {},
   "outputs": [
    {
     "name": "stdout",
     "output_type": "stream",
     "text": [
      "dict_keys(['val_loss', 'loss'])\n"
     ]
    }
   ],
   "source": [
    "print(his.history.keys())\n",
    "import collections\n",
    "folder_loss= collections.defaultdict(list)\n",
    "\n",
    "folder_loss['folder_loss']= his.history['loss']\n",
    "folder_loss['fodler_val']=his.history['val_loss']"
   ]
  },
  {
   "cell_type": "code",
   "execution_count": 34,
   "metadata": {},
   "outputs": [
    {
     "name": "stdout",
     "output_type": "stream",
     "text": [
      "   folder_loss  fodler_val\n",
      "0     0.158080    0.156625\n",
      "1     0.153970    0.154648\n",
      "2     0.153589    0.153671\n"
     ]
    }
   ],
   "source": [
    "lossdata = pd.DataFrame(folder_loss)\n",
    "print(lossdata)"
   ]
  },
  {
   "cell_type": "code",
   "execution_count": 11,
   "metadata": {},
   "outputs": [
    {
     "name": "stdout",
     "output_type": "stream",
     "text": [
      "0.25050038075\n"
     ]
    }
   ],
   "source": [
    "print(Gini(train_label, pred.reshape(-1,)))"
   ]
  },
  {
   "cell_type": "markdown",
   "metadata": {},
   "source": [
    "### Test data Score in Kaggle\n",
    "![alt text](Jupyter_image/benchmark_testScore.png)"
   ]
  },
  {
   "cell_type": "code",
   "execution_count": 6,
   "metadata": {},
   "outputs": [
    {
     "name": "stdout",
     "output_type": "stream",
     "text": [
      "['ps_ind_01' 'ps_ind_02_cat' 'ps_ind_03' 'ps_ind_04_cat' 'ps_ind_05_cat'\n",
      " 'ps_ind_06_bin' 'ps_ind_07_bin' 'ps_ind_08_bin' 'ps_ind_09_bin'\n",
      " 'ps_ind_10_bin' 'ps_ind_11_bin' 'ps_ind_12_bin' 'ps_ind_13_bin'\n",
      " 'ps_ind_14' 'ps_ind_15' 'ps_ind_16_bin' 'ps_ind_17_bin' 'ps_ind_18_bin'\n",
      " 'ps_reg_01' 'ps_reg_02' 'ps_reg_03' 'ps_car_01_cat' 'ps_car_02_cat'\n",
      " 'ps_car_03_cat' 'ps_car_04_cat' 'ps_car_05_cat' 'ps_car_06_cat'\n",
      " 'ps_car_07_cat' 'ps_car_08_cat' 'ps_car_09_cat' 'ps_car_10_cat'\n",
      " 'ps_car_11_cat' 'ps_car_11' 'ps_car_12' 'ps_car_13' 'ps_car_14'\n",
      " 'ps_car_15' 'ps_calc_01' 'ps_calc_02' 'ps_calc_03' 'ps_calc_04'\n",
      " 'ps_calc_05' 'ps_calc_06' 'ps_calc_07' 'ps_calc_08' 'ps_calc_09'\n",
      " 'ps_calc_10' 'ps_calc_11' 'ps_calc_12' 'ps_calc_13' 'ps_calc_14'\n",
      " 'ps_calc_15_bin' 'ps_calc_16_bin' 'ps_calc_17_bin' 'ps_calc_18_bin'\n",
      " 'ps_calc_19_bin' 'ps_calc_20_bin']\n"
     ]
    }
   ],
   "source": [
    "print(test.columns.values)"
   ]
  },
  {
   "cell_type": "code",
   "execution_count": null,
   "metadata": {},
   "outputs": [],
   "source": [
    "pd.read_csv(\"./input/train.csv\")"
   ]
  }
 ],
 "metadata": {
  "kernelspec": {
   "display_name": "Python 3",
   "language": "python",
   "name": "python3"
  },
  "language_info": {
   "codemirror_mode": {
    "name": "ipython",
    "version": 3
   },
   "file_extension": ".py",
   "mimetype": "text/x-python",
   "name": "python",
   "nbconvert_exporter": "python",
   "pygments_lexer": "ipython3",
   "version": "3.6.5"
  }
 },
 "nbformat": 4,
 "nbformat_minor": 2
}
